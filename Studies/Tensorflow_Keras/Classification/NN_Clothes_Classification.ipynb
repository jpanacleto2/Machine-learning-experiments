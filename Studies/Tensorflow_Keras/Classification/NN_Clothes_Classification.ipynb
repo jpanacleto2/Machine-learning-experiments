{
  "nbformat": 4,
  "nbformat_minor": 0,
  "metadata": {
    "colab": {
      "provenance": [],
      "collapsed_sections": [
        "hq92FdhMIAzs"
      ]
    },
    "kernelspec": {
      "name": "python3",
      "display_name": "Python 3"
    },
    "language_info": {
      "name": "python"
    }
  },
  "cells": [
    {
      "cell_type": "markdown",
      "source": [
        "Imports"
      ],
      "metadata": {
        "id": "a7ibWmEgompW"
      }
    },
    {
      "cell_type": "code",
      "execution_count": 2,
      "metadata": {
        "id": "_AApAU90mG_O"
      },
      "outputs": [],
      "source": [
        "import tensorflow\n",
        "from tensorflow import keras\n",
        "import matplotlib.pyplot as plt\n",
        "import numpy as np\n",
        "from tensorflow.keras.models import load_model"
      ]
    },
    {
      "cell_type": "markdown",
      "source": [
        "# Loading Data"
      ],
      "metadata": {
        "id": "rjFGcM5u1Bc0"
      }
    },
    {
      "cell_type": "code",
      "source": [
        "dataset = keras.datasets.fashion_mnist\n",
        "((train_images, train_labels), (test_images, test_labels)) = dataset.load_data()\n"
      ],
      "metadata": {
        "id": "l9O6MBax1J0p",
        "colab": {
          "base_uri": "https://localhost:8080/"
        },
        "outputId": "0d883008-c28b-4516-8638-2687b6b02b9c"
      },
      "execution_count": 3,
      "outputs": [
        {
          "output_type": "stream",
          "name": "stdout",
          "text": [
            "Downloading data from https://storage.googleapis.com/tensorflow/tf-keras-datasets/train-labels-idx1-ubyte.gz\n",
            "29515/29515 [==============================] - 0s 0us/step\n",
            "Downloading data from https://storage.googleapis.com/tensorflow/tf-keras-datasets/train-images-idx3-ubyte.gz\n",
            "26421880/26421880 [==============================] - 0s 0us/step\n",
            "Downloading data from https://storage.googleapis.com/tensorflow/tf-keras-datasets/t10k-labels-idx1-ubyte.gz\n",
            "5148/5148 [==============================] - 0s 0us/step\n",
            "Downloading data from https://storage.googleapis.com/tensorflow/tf-keras-datasets/t10k-images-idx3-ubyte.gz\n",
            "4422102/4422102 [==============================] - 0s 0us/step\n"
          ]
        }
      ]
    },
    {
      "cell_type": "markdown",
      "source": [
        "# Exploring Data"
      ],
      "metadata": {
        "id": "-uP8aJ8ypaA9"
      }
    },
    {
      "cell_type": "code",
      "source": [
        "len(train_images)\n",
        "train_images.shape\n",
        "test_images.shape\n",
        "\n",
        "len(test_labels)\n",
        "test_images.shape\n",
        "test_labels.shape"
      ],
      "metadata": {
        "colab": {
          "base_uri": "https://localhost:8080/"
        },
        "id": "K9xqA2e6pZPV",
        "outputId": "01f59e25-7bed-4eb7-dcca-d134e5128e7b"
      },
      "execution_count": 4,
      "outputs": [
        {
          "output_type": "execute_result",
          "data": {
            "text/plain": [
              "(10000,)"
            ]
          },
          "metadata": {},
          "execution_count": 4
        }
      ]
    },
    {
      "cell_type": "markdown",
      "source": [
        "# Showing Data"
      ],
      "metadata": {
        "id": "tHAdB6DHp5-f"
      }
    },
    {
      "cell_type": "code",
      "source": [
        "class_total = 10 # Quantidades de classes\n",
        "\n",
        "# Mapeamento dos nomes das classes\n",
        "class_names = ['Camiseta', 'Calça', 'Pullover',\n",
        "                           'Vestido', 'Casaco', 'Sandália', 'Camisa',\n",
        "                           'Tênis', 'Bolsa', 'Bota']\n",
        "\n",
        "\n",
        "'''\n",
        "for image in range(10):\n",
        "  plt.subplot(2, 5, image+1)# Define as linahs,colunas e a itreacao das imagens\n",
        "  plt.imshow(train_images[image])# plota as imagens\n",
        "  plt.title(class_names[train_labels[image]])# plota suas classes\n",
        "'''\n",
        "\n",
        "plt.imshow(train_images[0])\n",
        "plt.colorbar()\n",
        "\n"
      ],
      "metadata": {
        "colab": {
          "base_uri": "https://localhost:8080/",
          "height": 448
        },
        "id": "oYSqIPTArBA9",
        "outputId": "3c967e61-1573-4642-fc24-02b9f0d86cf6"
      },
      "execution_count": 5,
      "outputs": [
        {
          "output_type": "execute_result",
          "data": {
            "text/plain": [
              "<matplotlib.colorbar.Colorbar at 0x7cccc0e567a0>"
            ]
          },
          "metadata": {},
          "execution_count": 5
        },
        {
          "output_type": "display_data",
          "data": {
            "text/plain": [
              "<Figure size 640x480 with 2 Axes>"
            ],
            "image/png": "[encoded data removed]"
          },
          "metadata": {}
        }
      ]
    },
    {
      "cell_type": "markdown",
      "source": [
        "# Normalizing Images"
      ],
      "metadata": {
        "id": "k-i1r3t2urPz"
      }
    },
    {
      "cell_type": "code",
      "source": [
        "train_images = train_images/float(255) #reduzir a dimensionalidade dos pixels das imagens de treino ou seja a normalização\n",
        "\n",
        "plt.imshow(train_images[0])\n",
        "plt.colorbar()\n"
      ],
      "metadata": {
        "colab": {
          "base_uri": "https://localhost:8080/",
          "height": 453
        },
        "id": "2s7Im-Y6uuvr",
        "outputId": "188442f4-2398-4bd3-d2a9-e01afcd74d08"
      },
      "execution_count": 6,
      "outputs": [
        {
          "output_type": "execute_result",
          "data": {
            "text/plain": [
              "<matplotlib.colorbar.Colorbar at 0x7cccbedaef80>"
            ]
          },
          "metadata": {},
          "execution_count": 6
        },
        {
          "output_type": "display_data",
          "data": {
            "text/plain": [
              "<Figure size 640x480 with 2 Axes>"
            ],
            "image/png": "[encoded data removed]"
          },
          "metadata": {}
        }
      ]
    },
    {
      "cell_type": "markdown",
      "source": [
        "# Creating, compiling, trainig e normalizing Model"
      ],
      "metadata": {
        "id": "0lghywFK1i7L"
      }
    },
    {
      "cell_type": "code",
      "source": [
        "model = keras.Sequential([\n",
        "    keras.layers.Flatten(input_shape=(28, 28)),# faz o achatamento das duas dimensoes das imagens em uma dimensao\n",
        "    keras.layers.Dense(256,activation=tensorflow.nn.relu),# instancia a segunda camada do modelo com a ativação relu que permite a classificacao nao linear\n",
        "    keras.layers.Dropout(0.2),# Normalizacao\n",
        "    keras.layers.Dense(10, activation=tensorflow.nn.softmax)# Realiza a distribuicao de probabilidade das classes e retorna a com maior probabilidade em um valor de 0 a 1\n",
        "])\n",
        "\n",
        "adam = keras.optimizers.Adam(lr=0.002)# instanciando otimizador\n",
        "\n",
        "early_stop = [keras.callbacks.EarlyStopping(monitor='val_loss'),\n",
        "                keras.callbacks.ModelCheckpoint(filepath='melhor_modelo.hdf5',\n",
        "                                               monitor='val_loss', save_best_only=True)]\n",
        "\n",
        "\n",
        "model.compile(optimizer=adam,\n",
        "              loss='sparse_categorical_crossentropy',\n",
        "              metrics='accuracy')# compila o modelo passando o otimizador a ser usado e função responsavel por carregar a loss\n",
        "\n",
        "historic = model.fit(train_images, train_labels,\n",
        "                       batch_size = 480,\n",
        "                       epochs=5, validation_split=0.2,\n",
        "                       callbacks=early_stop) # treina o modelo com os dados\n",
        "\n"
      ],
      "metadata": {
        "colab": {
          "base_uri": "https://localhost:8080/"
        },
        "id": "DvRQPbfiHT9Z",
        "outputId": "e8916538-a6b1-4670-a209-5654c1ddb94b"
      },
      "execution_count": 8,
      "outputs": [
        {
          "output_type": "stream",
          "name": "stderr",
          "text": [
            "WARNING:absl:`lr` is deprecated in Keras optimizer, please use `learning_rate` or use the legacy optimizer, e.g.,tf.keras.optimizers.legacy.Adam.\n"
          ]
        },
        {
          "output_type": "stream",
          "name": "stdout",
          "text": [
            "Epoch 1/5\n",
            "100/100 [==============================] - 3s 21ms/step - loss: 0.7079 - accuracy: 0.7583 - val_loss: 0.4842 - val_accuracy: 0.8339\n",
            "Epoch 2/5\n",
            "100/100 [==============================] - 2s 18ms/step - loss: 0.4686 - accuracy: 0.8396 - val_loss: 0.4330 - val_accuracy: 0.8487\n",
            "Epoch 3/5\n",
            "100/100 [==============================] - 4s 42ms/step - loss: 0.4176 - accuracy: 0.8545 - val_loss: 0.3910 - val_accuracy: 0.8623\n",
            "Epoch 4/5\n",
            "100/100 [==============================] - 3s 29ms/step - loss: 0.3865 - accuracy: 0.8644 - val_loss: 0.3786 - val_accuracy: 0.8647\n",
            "Epoch 5/5\n",
            "100/100 [==============================] - 2s 19ms/step - loss: 0.3674 - accuracy: 0.8695 - val_loss: 0.3636 - val_accuracy: 0.8708\n"
          ]
        }
      ]
    },
    {
      "cell_type": "markdown",
      "source": [
        "# Model Summary"
      ],
      "metadata": {
        "id": "V2K6Q60VH3Ur"
      }
    },
    {
      "cell_type": "code",
      "source": [
        "model_summary = model.summary()"
      ],
      "metadata": {
        "colab": {
          "base_uri": "https://localhost:8080/"
        },
        "id": "YWxOmDS5H66D",
        "outputId": "a16844c1-964c-4f0e-c339-87825712afc5"
      },
      "execution_count": 9,
      "outputs": [
        {
          "output_type": "stream",
          "name": "stdout",
          "text": [
            "Model: \"sequential_1\"\n",
            "_________________________________________________________________\n",
            " Layer (type)                Output Shape              Param #   \n",
            "=================================================================\n",
            " flatten_1 (Flatten)         (None, 784)               0         \n",
            "                                                                 \n",
            " dense_2 (Dense)             (None, 256)               200960    \n",
            "                                                                 \n",
            " dropout_1 (Dropout)         (None, 256)               0         \n",
            "                                                                 \n",
            " dense_3 (Dense)             (None, 10)                2570      \n",
            "                                                                 \n",
            "=================================================================\n",
            "Total params: 203530 (795.04 KB)\n",
            "Trainable params: 203530 (795.04 KB)\n",
            "Non-trainable params: 0 (0.00 Byte)\n",
            "_________________________________________________________________\n"
          ]
        }
      ]
    },
    {
      "cell_type": "markdown",
      "source": [
        "# Weights Dense Layer"
      ],
      "metadata": {
        "id": "hq92FdhMIAzs"
      }
    },
    {
      "cell_type": "code",
      "source": [
        "weights_dense_layer = model.layers[1].get_weights()\n",
        "weights_dense_layer\n"
      ],
      "metadata": {
        "id": "nPnmNylBIEWC"
      },
      "execution_count": null,
      "outputs": []
    },
    {
      "cell_type": "code",
      "source": [
        "\n",
        "zero_weights_dense_layer = np.zeros((784, 256))\n",
        "aleatory_weights_dense_layer = np.random.rand(784, 256)\n",
        "\n",
        "bias_dense_layer = model.layers[1].get_weights()[1]\n",
        "bias_dense_layer.shape\n",
        "\n",
        "'''\n",
        "model.layers[1].set_weights(\n",
        "    [zero_weights_dense_layer, bias_dense_layer]\n",
        ")\n",
        "'''\n",
        "\n",
        "zeros_bias_dense_layer = np.zeros((256,))\n",
        "model.layers[1].set_weights(\n",
        "    [aleatory_weights_dense_layer, zeros_bias_dense_layer]\n",
        ")\n",
        "\n",
        "model.layers[1].set_weights(\n",
        "    [aleatory_weights_dense_layer, bias_dense_layer]\n",
        ")\n",
        "\n",
        "model.layers[1].get_weights()\n"
      ],
      "metadata": {
        "id": "4SE2vk_3F4sO"
      },
      "execution_count": null,
      "outputs": []
    },
    {
      "cell_type": "code",
      "source": [
        "model.compile(optimizer=adam,\n",
        "               loss='sparse_categorical_crossentropy',\n",
        "               metrics=['accuracy'])\n",
        "\n",
        "historico = model.fit(train_images, train_labels, epochs=5, validation_split=0.2)"
      ],
      "metadata": {
        "id": "kCviPd6_HC6e"
      },
      "execution_count": null,
      "outputs": []
    },
    {
      "cell_type": "code",
      "source": [
        "plt.plot(historico.history['accuracy'])\n",
        "plt.plot(historico.history['val_accuracy'])\n",
        "plt.title('Acurácia por épocas')\n",
        "plt.xlabel('épocas')\n",
        "plt.ylabel('acurácia')\n",
        "plt.legend(['treino', 'validação'])\n"
      ],
      "metadata": {
        "id": "RI6qRJPTHQ6u"
      },
      "execution_count": null,
      "outputs": []
    },
    {
      "cell_type": "code",
      "source": [
        "model.get_config()"
      ],
      "metadata": {
        "id": "1uv9gDMPH1Gs"
      },
      "execution_count": null,
      "outputs": []
    },
    {
      "cell_type": "code",
      "source": [
        "plt.plot(historico.history['loss'])\n",
        "plt.plot(historico.history['val_loss'])\n",
        "plt.title('Perda por épocas')\n",
        "plt.xlabel('épocas')\n",
        "plt.ylabel('perda')\n",
        "plt.legend(['treino', 'validação'])"
      ],
      "metadata": {
        "id": "Qgh75IbXHz61"
      },
      "execution_count": null,
      "outputs": []
    },
    {
      "cell_type": "markdown",
      "source": [
        "# Saving and loading trained model"
      ],
      "metadata": {
        "id": "PB3qQqe81rRM"
      }
    },
    {
      "cell_type": "code",
      "source": [
        "model.save('modelo.h5')\n",
        "saved_model = load_model('modelo.h5')\n"
      ],
      "metadata": {
        "id": "ts7AvwUKzKey"
      },
      "execution_count": 10,
      "outputs": []
    },
    {
      "cell_type": "markdown",
      "source": [
        "# Ploting train_acuraccy and validation by epoch"
      ],
      "metadata": {
        "id": "vdqTpSvE14rT"
      }
    },
    {
      "cell_type": "code",
      "source": [
        "plt.plot(historic.history['accuracy'])\n",
        "plt.plot(historic.history['val_accuracy'])\n",
        "plt.title('Acurracy in epochs')\n",
        "plt.xlabel('epochs')\n",
        "plt.ylabel('acuraccy')\n",
        "plt.legend(['train', 'validation'])\n"
      ],
      "metadata": {
        "colab": {
          "base_uri": "https://localhost:8080/",
          "height": 490
        },
        "id": "s-FxzAD6viAS",
        "outputId": "d7eba145-8a9b-49d2-ec2f-a71ef76dd37b"
      },
      "execution_count": 11,
      "outputs": [
        {
          "output_type": "execute_result",
          "data": {
            "text/plain": [
              "<matplotlib.legend.Legend at 0x7ccc9864bd30>"
            ]
          },
          "metadata": {},
          "execution_count": 11
        },
        {
          "output_type": "display_data",
          "data": {
            "text/plain": [
              "<Figure size 640x480 with 1 Axes>"
            ],
            "image/png": "[encoded data removed]"
          },
          "metadata": {}
        }
      ]
    },
    {
      "cell_type": "markdown",
      "source": [
        "# Ploting train_losses and validation by epoch"
      ],
      "metadata": {
        "id": "ycUB0d8v2LLq"
      }
    },
    {
      "cell_type": "code",
      "source": [
        "\n",
        "plt.plot(historic.history['loss'])\n",
        "plt.plot(historic.history['val_loss'])\n",
        "plt.title('loss in epochs')\n",
        "plt.xlabel('epochs')\n",
        "plt.ylabel('loss')\n",
        "plt.legend(['train', 'validation'])\n",
        "\n"
      ],
      "metadata": {
        "colab": {
          "base_uri": "https://localhost:8080/",
          "height": 490
        },
        "id": "bmoTPECJwC68",
        "outputId": "409c2d70-29cb-46a1-8569-faf29be481bf"
      },
      "execution_count": 12,
      "outputs": [
        {
          "output_type": "execute_result",
          "data": {
            "text/plain": [
              "<matplotlib.legend.Legend at 0x7ccc986350f0>"
            ]
          },
          "metadata": {},
          "execution_count": 12
        },
        {
          "output_type": "display_data",
          "data": {
            "text/plain": [
              "<Figure size 640x480 with 1 Axes>"
            ],
            "image/png": "[encoded data removed]"
          },
          "metadata": {}
        }
      ]
    },
    {
      "cell_type": "markdown",
      "source": [
        "# Testing the model and saved model\n"
      ],
      "metadata": {
        "id": "xO2nmNAT2Xi6"
      }
    },
    {
      "cell_type": "code",
      "source": [
        "\n",
        "tests = model.predict(test_images)\n",
        "print('resultado teste:', np.argmax(tests[1]))\n",
        "print('número da imagem de teste:', test_labels[1])\n",
        "\n",
        "saved_model_tests = saved_model.predict(test_images)\n",
        "print('resultado teste modelo salvo:', np.argmax(saved_model_tests[1]))\n",
        "print('número da imagem de teste:', test_labels[1])\n",
        "\n"
      ],
      "metadata": {
        "id": "QoydeR7ZHPC5",
        "colab": {
          "base_uri": "https://localhost:8080/"
        },
        "outputId": "0adca133-fc52-45f3-9a83-2a5fc17f3066"
      },
      "execution_count": 13,
      "outputs": [
        {
          "output_type": "stream",
          "name": "stdout",
          "text": [
            "313/313 [==============================] - 1s 2ms/step\n",
            "resultado teste: 2\n",
            "número da imagem de teste: 2\n",
            "313/313 [==============================] - 1s 2ms/step\n",
            "resultado teste modelo salvo: 2\n",
            "número da imagem de teste: 2\n"
          ]
        }
      ]
    },
    {
      "cell_type": "markdown",
      "source": [
        "# Evaluating Model"
      ],
      "metadata": {
        "id": "1eBoux5S2nh0"
      }
    },
    {
      "cell_type": "code",
      "source": [
        "test_loss,test_acuraccy = model.evaluate(test_images,test_labels)\n",
        "print(\"Teste loss :\",test_loss)\n",
        "print(\"Teste acuraccy :\",test_acuraccy)"
      ],
      "metadata": {
        "colab": {
          "base_uri": "https://localhost:8080/"
        },
        "id": "UFSIgtKjrkI0",
        "outputId": "15f41218-2380-41f8-9d06-fec3714c4481"
      },
      "execution_count": 14,
      "outputs": [
        {
          "output_type": "stream",
          "name": "stdout",
          "text": [
            "313/313 [==============================] - 1s 2ms/step - loss: 52.0148 - accuracy: 0.8526\n",
            "Teste loss : 52.01483154296875\n",
            "Teste acuraccy : 0.8525999784469604\n"
          ]
        }
      ]
    }
  ]
}